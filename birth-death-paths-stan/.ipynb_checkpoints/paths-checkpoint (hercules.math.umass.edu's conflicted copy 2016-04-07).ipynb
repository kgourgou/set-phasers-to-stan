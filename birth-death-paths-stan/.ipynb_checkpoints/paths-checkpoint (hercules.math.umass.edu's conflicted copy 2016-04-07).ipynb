{
 "cells": [
  {
   "cell_type": "code",
   "execution_count": 3,
   "metadata": {
    "collapsed": false
   },
   "outputs": [],
   "source": [
    "from matplotlib.pyplot import plot\n",
    "from ssa import SSA\n",
    "from pystan import stan\n",
    "\n",
    "%matplotlib inline"
   ]
  },
  {
   "cell_type": "code",
   "execution_count": 5,
   "metadata": {
    "collapsed": false
   },
   "outputs": [],
   "source": [
    "N = 100\n",
    "alpha = 1\n",
    "mu = 10\n",
    "\n",
    "x, t = SSA(100,N,a=alpha,mu=mu)\n",
    "\n",
    "x = x.astype(int) # path data supposed to be integers.\n",
    "\n",
    "path_data = {\n",
    "    'N' : N,\n",
    "    't' : t,\n",
    "    'x' : x\n",
    "}\n",
    "\n"
   ]
  },
  {
   "cell_type": "code",
   "execution_count": 7,
   "metadata": {
    "collapsed": true
   },
   "outputs": [],
   "source": [
    "# Setup STAN :\n",
    "model_description = \"\"\"\n",
    "data{\n",
    "      int<lower=0> N; ## number of time steps\n",
    "      vector[N] t; ## time value at each time step\n",
    "      int<lower=0> x[N]; ## population value at each time step\n",
    "    }\n",
    "\n",
    "    transformed data{\n",
    "      int<lower=0> x0; ## starting population value\n",
    "      x0 <- x[1];\n",
    "    }\n",
    "\n",
    "    parameters{\n",
    "      real<lower=0> alpha; ## birth rate parameter \n",
    "      real<lower=0> mu; ## death rate parameter\n",
    "    }\n",
    "\n",
    "    model {\n",
    "          x ~ poisson(alpha/mu+(x0-alpha/mu)*exp(-mu*t)); \n",
    "    }\n",
    "\"\"\"\n"
   ]
  },
  {
   "cell_type": "code",
   "execution_count": 8,
   "metadata": {
    "collapsed": false
   },
   "outputs": [
    {
     "name": "stdout",
     "output_type": "stream",
     "text": [
      "Inference for Stan model: anon_model_fecd407943b312052f529b4daef11a7c.\n",
      "1 chains, each with iter=1000; warmup=500; thin=1; \n",
      "post-warmup draws per chain=500, total post-warmup draws=500.\n",
      "\n",
      "        mean se_mean     sd   2.5%    25%    50%    75%  97.5%  n_eff   Rhat\n",
      "alpha   5.71    0.22   5.01   0.17   1.83    4.4   8.05  19.84  500.0    1.0\n",
      "mu      8.32  8.6e-3   0.19   7.99   8.18   8.31   8.44   8.72  500.0    1.0\n",
      "lp__   1.6e4    0.04   0.95  1.6e4  1.6e4  1.6e4  1.6e4  1.6e4  500.0    1.0\n",
      "\n",
      "Samples were drawn using NUTS(diag_e) at Thu Apr  7 19:54:06 2016.\n",
      "For each parameter, n_eff is a crude measure of effective sample size,\n",
      "and Rhat is the potential scale reduction factor on split chains (at \n",
      "convergence, Rhat=1).\n"
     ]
    }
   ],
   "source": [
    "fit = stan(model_code=model_description,\n",
    "           data=path_data, chains=1,iter=1000)\n",
    "\n",
    "print fit"
   ]
  },
  {
   "cell_type": "code",
   "execution_count": null,
   "metadata": {
    "collapsed": true
   },
   "outputs": [],
   "source": []
  }
 ],
 "metadata": {
  "kernelspec": {
   "display_name": "Python 2",
   "language": "python",
   "name": "python2"
  },
  "language_info": {
   "codemirror_mode": {
    "name": "ipython",
    "version": 2
   },
   "file_extension": ".py",
   "mimetype": "text/x-python",
   "name": "python",
   "nbconvert_exporter": "python",
   "pygments_lexer": "ipython2",
   "version": "2.7.11"
  }
 },
 "nbformat": 4,
 "nbformat_minor": 0
}
