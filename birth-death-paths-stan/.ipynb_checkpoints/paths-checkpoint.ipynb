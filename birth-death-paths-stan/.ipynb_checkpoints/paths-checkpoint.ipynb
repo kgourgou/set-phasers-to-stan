{
 "cells": [
  {
   "cell_type": "code",
   "execution_count": 2,
   "metadata": {
    "collapsed": false
   },
   "outputs": [],
   "source": [
    "from matplotlib.pyplot import plot\n",
    "from ssa import SSA\n",
    "from pystan import stan\n",
    "\n",
    "%matplotlib inline"
   ]
  },
  {
   "cell_type": "code",
   "execution_count": 3,
   "metadata": {
    "collapsed": true
   },
   "outputs": [],
   "source": [
    "N = 100\n",
    "alpha = 1\n",
    "mu = 10\n",
    "\n",
    "x, t = SSA(3,N,a=alpha,mu=mu)\n",
    "\n",
    "x = x.astype(int) # path data supposed to be integers.\n",
    "\n",
    "path_data = {\n",
    "    'N' : N,\n",
    "    't' : t,\n",
    "    'x' : x\n",
    "}\n",
    "\n"
   ]
  },
  {
   "cell_type": "code",
   "execution_count": 4,
   "metadata": {
    "collapsed": true
   },
   "outputs": [],
   "source": [
    "# Setup STAN :\n",
    "model_description = \"\"\"\n",
    "data{\n",
    "  int<lower=0> N; ## number of time steps\n",
    "  vector[N] t; ## time value at each time step\n",
    "  int<lower=0> x[N]; ## population value at each time step\n",
    "}\n",
    "\n",
    "transformed data{\n",
    "  int<lower=0> x0; ## starting population value\n",
    "  x0 <- x[1];\n",
    "}\n",
    "\n",
    "parameters{\n",
    "  real<lower=0> alpha; ## birth rate parameter \n",
    "  real<lower=0> mu; ## death rate parameter\n",
    "}\n",
    "\n",
    "model {\n",
    "      x ~ poisson(alpha/mu+(x0-alpha/mu)*exp(-mu*t)); \n",
    "}\n",
    "\"\"\"\n"
   ]
  },
  {
   "cell_type": "code",
   "execution_count": null,
   "metadata": {
    "collapsed": true
   },
   "outputs": [],
   "source": [
    "fit = stan(model_code=model_description,\n",
    "           data=path_data, chains=1,iter=1000)\n",
    "\n",
    "print fit"
   ]
  },
  {
   "cell_type": "code",
   "execution_count": null,
   "metadata": {
    "collapsed": true
   },
   "outputs": [],
   "source": []
  }
 ],
 "metadata": {
  "kernelspec": {
   "display_name": "Python 2",
   "language": "python",
   "name": "python2"
  },
  "language_info": {
   "codemirror_mode": {
    "name": "ipython",
    "version": 2
   },
   "file_extension": ".py",
   "mimetype": "text/x-python",
   "name": "python",
   "nbconvert_exporter": "python",
   "pygments_lexer": "ipython2",
   "version": "2.7.11"
  }
 },
 "nbformat": 4,
 "nbformat_minor": 0
}
