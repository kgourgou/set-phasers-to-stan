{
 "cells": [
  {
   "cell_type": "raw",
   "metadata": {},
   "source": [
    "<script>\n",
    "  function code_toggle() {\n",
    "    if (code_shown){\n",
    "      $('div.input').hide('500');\n",
    "      $('#toggleButton').val('Show Code')\n",
    "    } else {\n",
    "      $('div.input').show('500');\n",
    "      $('#toggleButton').val('Hide Code')\n",
    "    }\n",
    "    code_shown = !code_shown\n",
    "  }\n",
    "\n",
    "  $( document ).ready(function(){\n",
    "    code_shown=false;\n",
    "    $('div.input').hide()\n",
    "  });\n",
    "</script>\n",
    "<form action=\"javascript:code_toggle()\"><input type=\"submit\" id=\"toggleButton\" value=\"Show Code\"></form>"
   ]
  },
  {
   "cell_type": "code",
   "execution_count": 53,
   "metadata": {
    "collapsed": false
   },
   "outputs": [],
   "source": [
    "import matplotlib.pyplot as pl\n",
    "from ssa import SSA\n",
    "from pystan import stan\n",
    "\n",
    "import numpy as np\n",
    "\n",
    "import random\n",
    "\n",
    "%matplotlib inline\n",
    "\n",
    "# Fixing figure sizes8\n",
    "from pylab import rcParams\n",
    "rcParams['figure.figsize'] = 8,8"
   ]
  },
  {
   "cell_type": "markdown",
   "metadata": {},
   "source": [
    "# Inferring from long versus short-time regimes\n",
    "\n",
    "How well can we infer parameters of choice from data that is at different stages? For example, if we are dealing with a system that has equilibrated versus a system that is still in the transition regime. \n",
    "\n",
    "\n",
    "The system of choice shall be a simple birth-death process, described by the relations : \n",
    "\n",
    "$$\n",
    "\\begin{align}\n",
    "\\emptyset \\stackrel{a}{\\to} X,\\\\\n",
    "X \\stackrel{\\mu X}{\\to} \\emptyset.\n",
    "\\end{align}\n",
    "$$\n",
    "\n",
    "$X$ here is the population number.\n",
    "\n",
    "Throughout, we shall use $a=10$ and $\\mu=1.0$. \n",
    "\n",
    "For some intuition on what the system is doing, we shall use the corresponding reaction rate equation. The reaction rate equation for this system is : \n",
    "\n",
    "$$\n",
    "\\begin{align}\n",
    "\\dot{x}=a-\\mu\\cdot x,\\\\\n",
    "x(0)=x_0.\n",
    "\\end{align}\n",
    "$$\n",
    "\n",
    "As this is a linear equation, we can solve it exactly, with solution\n",
    "\n",
    "$$\n",
    "x(t)= a/\\mu+(x_0-a/\\mu) e^{-t\\mu}\n",
    "$$\n",
    "\n",
    "Let us set $\\gamma = a/\\mu$. Then, the solution above can be written as \n",
    "\n",
    "$$\n",
    "x(t)= \\gamma+(x_0-\\gamma) e^{-t\\mu}.\n",
    "$$\n",
    "\n",
    "But now note that, since $\\mu>0$, we have that $$\\lim_{t\\to\\infty} x(t)=\\gamma.$$\n",
    "\n",
    "That is, for long times, the relevant quantity that drives the system is $\\gamma$, and by that time, we can no longer recover the exact values of $a$ and $\\mu$. \n"
   ]
  },
  {
   "cell_type": "code",
   "execution_count": 47,
   "metadata": {
    "collapsed": false
   },
   "outputs": [
    {
     "name": "stdout",
     "output_type": "stream",
     "text": [
      "Simulated up to time T = 438.0\n"
     ]
    }
   ],
   "source": [
    "N = 1000\n",
    "alpha = 1.0\n",
    "mu = 10.0\n",
    "\n",
    "x, t = SSA(100,N,a=alpha,mu=mu)\n",
    "x = x.astype(int) # path data supposed to be integers.\n",
    "\n",
    "path_data = {\n",
    "    'N' : N,\n",
    "    't' : t,\n",
    "    'x' : x\n",
    "}\n",
    "\n",
    "print 'Simulated up to time T =', round(t[N-1]) "
   ]
  },
  {
   "cell_type": "code",
   "execution_count": 48,
   "metadata": {
    "collapsed": true
   },
   "outputs": [],
   "source": [
    "# Setup STAN :\n",
    "model_description = \"\"\"\n",
    "data{\n",
    "      int<lower=0> N; ## number of time steps\n",
    "      vector[N] t; ## time value at each time step\n",
    "      int<lower=0> x[N]; ## population value at each time step\n",
    "    }\n",
    "\n",
    "    transformed data{\n",
    "      int<lower=0> x0; ## starting population value\n",
    "      x0 <- x[1];\n",
    "    }\n",
    "\n",
    "    parameters{\n",
    "      real<lower=0> alpha; ## birth rate parameter \n",
    "      real<lower=0> mu; ## death rate parameter\n",
    "    }\n",
    "    \n",
    "    transformed parameters{\n",
    "      real<lower=0> gamma;\n",
    "      gamma <- alpha/mu;\n",
    "    }\n",
    "\n",
    "\n",
    " model {\n",
    "      x ~ poisson(gamma+(x0-gamma)*exp(-mu*t));\n",
    "    }\n",
    "\n",
    "\"\"\"\n"
   ]
  },
  {
   "cell_type": "code",
   "execution_count": 49,
   "metadata": {
    "collapsed": false
   },
   "outputs": [
    {
     "name": "stdout",
     "output_type": "stream",
     "text": [
      "Inference for Stan model: anon_model_08776c60aeff1edc9f21a230218a96da.\n",
      "1 chains, each with iter=1000; warmup=500; thin=1; \n",
      "post-warmup draws per chain=500, total post-warmup draws=500.\n",
      "\n",
      "        mean se_mean     sd   2.5%    25%    50%    75%  97.5%  n_eff   Rhat\n",
      "alpha   6.69    0.02   0.34   5.99   6.46   6.68   6.94   7.36  500.0    1.0\n",
      "mu     11.19    0.01   0.25  10.76  11.01  11.17  11.34  11.74  500.0    1.0\n",
      "gamma    0.6  1.2e-3   0.03   0.54   0.58    0.6   0.62   0.65  500.0    1.0\n",
      "lp__   1.5e4    0.05   1.11  1.5e4  1.5e4  1.5e4  1.5e4  1.5e4  500.0   1.01\n",
      "\n",
      "Samples were drawn using NUTS(diag_e) at Fri Apr  8 18:17:12 2016.\n",
      "For each parameter, n_eff is a crude measure of effective sample size,\n",
      "and Rhat is the potential scale reduction factor on split chains (at \n",
      "convergence, Rhat=1).\n"
     ]
    }
   ],
   "source": [
    "fit = stan(model_code=model_description,\n",
    "           data=path_data, chains=1,iter=1000)\n",
    "\n",
    "print fit\n"
   ]
  },
  {
   "cell_type": "markdown",
   "metadata": {},
   "source": [
    "Above we can see the inference from STAN. Remember that $a=1$ and $\\mu=10$, which gives $\\gamma=a/\\mu=0.1$. Looking at the values above, we can see that STAN didn't quite hit the mark with $a$, whereas it did better at $\\mu$ and $\\gamma$. \n",
    "\n",
    "We shall now try again, but instead of using a single path, we shall use multiple paths. "
   ]
  },
  {
   "cell_type": "code",
   "execution_count": 71,
   "metadata": {
    "collapsed": false
   },
   "outputs": [],
   "source": [
    "N = 300\n",
    "Npath = 10\n",
    "\n",
    "alpha = 1.0\n",
    "mu = 10.0\n",
    "\n",
    "x = np.zeros([Npath,N])\n",
    "t = np.zeros([Npath,N])\n",
    "\n",
    "for i in xrange(Npath):\n",
    "    x[i,], t[i,] = SSA(100,N,a=alpha,mu=mu)\n",
    "    \n",
    "x = x.astype(int) # path data supposed to be integers.\n",
    "\n",
    "x = x.flatten()\n",
    "t = t.flatten()\n",
    "\n",
    "Ndata = N*Npath\n",
    "\n",
    "path_data = {\n",
    "    'N' : Ndata,\n",
    "    't' : t,\n",
    "    'x' : x\n",
    "}"
   ]
  },
  {
   "cell_type": "markdown",
   "metadata": {},
   "source": [
    "Now that we have data that are mostly from the transition regime, we run our inference again. "
   ]
  },
  {
   "cell_type": "code",
   "execution_count": 73,
   "metadata": {
    "collapsed": false
   },
   "outputs": [
    {
     "name": "stdout",
     "output_type": "stream",
     "text": [
      "Inference for Stan model: anon_model_08776c60aeff1edc9f21a230218a96da.\n",
      "1 chains, each with iter=2000; warmup=1000; thin=1; \n",
      "post-warmup draws per chain=1000, total post-warmup draws=1000.\n",
      "\n",
      "        mean se_mean     sd   2.5%    25%    50%    75%  97.5%  n_eff   Rhat\n",
      "alpha   5.98  5.3e-3   0.17   5.66   5.86   5.98   6.09   6.31 1000.0    1.0\n",
      "mu     10.18  2.0e-3   0.06  10.06  10.14  10.18  10.22   10.3 1000.0    1.0\n",
      "gamma   0.59  5.0e-4   0.02   0.56   0.58   0.59    0.6   0.62 1000.0    1.0\n",
      "lp__   1.6e5    0.03   0.96  1.6e5  1.6e5  1.6e5  1.6e5  1.6e5 1000.0   1.01\n",
      "\n",
      "Samples were drawn using NUTS(diag_e) at Fri Apr  8 18:34:12 2016.\n",
      "For each parameter, n_eff is a crude measure of effective sample size,\n",
      "and Rhat is the potential scale reduction factor on split chains (at \n",
      "convergence, Rhat=1).\n"
     ]
    }
   ],
   "source": [
    "fit_trans = stan(model_code=model_description,\n",
    "           data=path_data, chains=1,iter=2000)\n",
    "\n",
    "print fit_trans"
   ]
  },
  {
   "cell_type": "code",
   "execution_count": null,
   "metadata": {
    "collapsed": true
   },
   "outputs": [],
   "source": []
  }
 ],
 "metadata": {
  "kernelspec": {
   "display_name": "Python 2",
   "language": "python",
   "name": "python2"
  },
  "language_info": {
   "codemirror_mode": {
    "name": "ipython",
    "version": 2
   },
   "file_extension": ".py",
   "mimetype": "text/x-python",
   "name": "python",
   "nbconvert_exporter": "python",
   "pygments_lexer": "ipython2",
   "version": "2.7.11"
  }
 },
 "nbformat": 4,
 "nbformat_minor": 0
}
